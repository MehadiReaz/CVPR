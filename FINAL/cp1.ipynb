{
  "nbformat": 4,
  "nbformat_minor": 0,
  "metadata": {
    "colab": {
      "provenance": []
    },
    "kernelspec": {
      "name": "python3",
      "display_name": "Python 3"
    },
    "language_info": {
      "name": "python"
    }
  },
  "cells": [
    {
      "cell_type": "code",
      "execution_count": 1,
      "metadata": {
        "colab": {
          "base_uri": "https://localhost:8080/"
        },
        "id": "WfePWVwfZ1V9",
        "outputId": "f5dd3d4c-f005-43dc-aebe-eec8d146a625"
      },
      "outputs": [
        {
          "output_type": "stream",
          "name": "stdout",
          "text": [
            "Downloading data from https://storage.googleapis.com/tensorflow/tf-keras-datasets/mnist.npz\n",
            "11490434/11490434 [==============================] - 0s 0us/step\n"
          ]
        },
        {
          "output_type": "stream",
          "name": "stderr",
          "text": [
            "WARNING:absl:`lr` is deprecated, please use `learning_rate` instead, or use the legacy optimizer, e.g.,tf.keras.optimizers.legacy.SGD.\n"
          ]
        },
        {
          "output_type": "stream",
          "name": "stdout",
          "text": [
            "Epoch 1/10\n",
            "469/469 [==============================] - 43s 90ms/step - loss: 0.9306 - accuracy: 0.7711 - val_loss: 0.3762 - val_accuracy: 0.8949\n",
            "Epoch 2/10\n",
            "469/469 [==============================] - 34s 72ms/step - loss: 0.3450 - accuracy: 0.9003 - val_loss: 0.2928 - val_accuracy: 0.9170\n",
            "Epoch 3/10\n",
            "469/469 [==============================] - 33s 71ms/step - loss: 0.2933 - accuracy: 0.9147 - val_loss: 0.2611 - val_accuracy: 0.9245\n",
            "Epoch 4/10\n",
            "469/469 [==============================] - 33s 71ms/step - loss: 0.2615 - accuracy: 0.9240 - val_loss: 0.2340 - val_accuracy: 0.9319\n",
            "Epoch 5/10\n",
            "469/469 [==============================] - 37s 78ms/step - loss: 0.2365 - accuracy: 0.9313 - val_loss: 0.2133 - val_accuracy: 0.9383\n",
            "Epoch 6/10\n",
            "469/469 [==============================] - 32s 69ms/step - loss: 0.2153 - accuracy: 0.9373 - val_loss: 0.1995 - val_accuracy: 0.9417\n",
            "Epoch 7/10\n",
            "469/469 [==============================] - 32s 67ms/step - loss: 0.1988 - accuracy: 0.9417 - val_loss: 0.1808 - val_accuracy: 0.9455\n",
            "Epoch 8/10\n",
            "469/469 [==============================] - 34s 73ms/step - loss: 0.1839 - accuracy: 0.9464 - val_loss: 0.1744 - val_accuracy: 0.9471\n",
            "Epoch 9/10\n",
            "469/469 [==============================] - 33s 70ms/step - loss: 0.1723 - accuracy: 0.9499 - val_loss: 0.1574 - val_accuracy: 0.9536\n",
            "Epoch 10/10\n",
            "469/469 [==============================] - 32s 69ms/step - loss: 0.1613 - accuracy: 0.9534 - val_loss: 0.1522 - val_accuracy: 0.9557\n"
          ]
        },
        {
          "output_type": "stream",
          "name": "stderr",
          "text": [
            "WARNING:absl:`lr` is deprecated, please use `learning_rate` instead, or use the legacy optimizer, e.g.,tf.keras.optimizers.legacy.Adam.\n"
          ]
        },
        {
          "output_type": "stream",
          "name": "stdout",
          "text": [
            "Epoch 1/10\n",
            "469/469 [==============================] - 33s 69ms/step - loss: 0.1510 - accuracy: 0.9541 - val_loss: 0.0821 - val_accuracy: 0.9734\n",
            "Epoch 2/10\n",
            "469/469 [==============================] - 34s 73ms/step - loss: 0.0662 - accuracy: 0.9794 - val_loss: 0.0545 - val_accuracy: 0.9821\n",
            "Epoch 3/10\n",
            "469/469 [==============================] - 33s 71ms/step - loss: 0.0418 - accuracy: 0.9869 - val_loss: 0.0475 - val_accuracy: 0.9840\n",
            "Epoch 4/10\n",
            "469/469 [==============================] - 33s 71ms/step - loss: 0.0291 - accuracy: 0.9911 - val_loss: 0.0466 - val_accuracy: 0.9848\n",
            "Epoch 5/10\n",
            "469/469 [==============================] - 33s 71ms/step - loss: 0.0217 - accuracy: 0.9930 - val_loss: 0.0417 - val_accuracy: 0.9860\n",
            "Epoch 6/10\n",
            "469/469 [==============================] - 33s 70ms/step - loss: 0.0157 - accuracy: 0.9953 - val_loss: 0.0478 - val_accuracy: 0.9847\n",
            "Epoch 7/10\n",
            "469/469 [==============================] - 33s 71ms/step - loss: 0.0117 - accuracy: 0.9969 - val_loss: 0.0435 - val_accuracy: 0.9862\n",
            "Epoch 8/10\n",
            "469/469 [==============================] - 33s 70ms/step - loss: 0.0096 - accuracy: 0.9971 - val_loss: 0.0472 - val_accuracy: 0.9867\n",
            "Epoch 9/10\n",
            "469/469 [==============================] - 34s 73ms/step - loss: 0.0074 - accuracy: 0.9976 - val_loss: 0.0447 - val_accuracy: 0.9861\n",
            "Epoch 10/10\n",
            "469/469 [==============================] - 34s 73ms/step - loss: 0.0062 - accuracy: 0.9981 - val_loss: 0.0429 - val_accuracy: 0.9868\n"
          ]
        },
        {
          "output_type": "stream",
          "name": "stderr",
          "text": [
            "WARNING:absl:`lr` is deprecated, please use `learning_rate` instead, or use the legacy optimizer, e.g.,tf.keras.optimizers.legacy.RMSprop.\n"
          ]
        },
        {
          "output_type": "stream",
          "name": "stdout",
          "text": [
            "Epoch 1/10\n",
            "469/469 [==============================] - 36s 76ms/step - loss: 0.0024 - accuracy: 0.9995 - val_loss: 0.0426 - val_accuracy: 0.9876\n",
            "Epoch 2/10\n",
            "469/469 [==============================] - 31s 67ms/step - loss: 0.0013 - accuracy: 0.9997 - val_loss: 0.0445 - val_accuracy: 0.9886\n",
            "Epoch 3/10\n",
            "469/469 [==============================] - 34s 73ms/step - loss: 5.9821e-04 - accuracy: 0.9999 - val_loss: 0.0521 - val_accuracy: 0.9875\n",
            "Epoch 4/10\n",
            "469/469 [==============================] - 33s 70ms/step - loss: 4.0213e-04 - accuracy: 0.9999 - val_loss: 0.0495 - val_accuracy: 0.9882\n",
            "Epoch 5/10\n",
            "469/469 [==============================] - 34s 72ms/step - loss: 1.8499e-04 - accuracy: 1.0000 - val_loss: 0.0498 - val_accuracy: 0.9884\n",
            "Epoch 6/10\n",
            "469/469 [==============================] - 33s 70ms/step - loss: 1.5812e-04 - accuracy: 1.0000 - val_loss: 0.0541 - val_accuracy: 0.9883\n",
            "Epoch 7/10\n",
            "469/469 [==============================] - 33s 70ms/step - loss: 1.0919e-04 - accuracy: 1.0000 - val_loss: 0.0525 - val_accuracy: 0.9883\n",
            "Epoch 8/10\n",
            "469/469 [==============================] - 33s 70ms/step - loss: 8.9396e-05 - accuracy: 1.0000 - val_loss: 0.0540 - val_accuracy: 0.9879\n",
            "Epoch 9/10\n",
            "469/469 [==============================] - 34s 73ms/step - loss: 4.1628e-05 - accuracy: 1.0000 - val_loss: 0.0544 - val_accuracy: 0.9886\n",
            "Epoch 10/10\n",
            "469/469 [==============================] - 33s 71ms/step - loss: 4.8405e-05 - accuracy: 1.0000 - val_loss: 0.0559 - val_accuracy: 0.9880\n"
          ]
        },
        {
          "output_type": "execute_result",
          "data": {
            "text/plain": [
              "<keras.callbacks.History at 0x7f0b6e115cd0>"
            ]
          },
          "metadata": {},
          "execution_count": 1
        }
      ],
      "source": [
        "import tensorflow as tf\n",
        "from tensorflow import keras\n",
        "from tensorflow.keras import layers\n",
        "\n",
        "# Load the MNIST dataset\n",
        "(x_train, y_train), (x_test, y_test) = keras.datasets.mnist.load_data()\n",
        "\n",
        "# Preprocess the data\n",
        "x_train = x_train.reshape(-1, 28, 28, 1).astype(\"float32\") / 255.0\n",
        "x_test = x_test.reshape(-1, 28, 28, 1).astype(\"float32\") / 255.0\n",
        "y_train = keras.utils.to_categorical(y_train, 10)\n",
        "y_test = keras.utils.to_categorical(y_test, 10)\n",
        "\n",
        "# Define the model architecture\n",
        "model = keras.Sequential(\n",
        "    [\n",
        "        layers.Conv2D(32, kernel_size=(3, 3), activation=\"relu\", input_shape=(28, 28, 1)),\n",
        "        layers.MaxPooling2D(pool_size=(2, 2)),\n",
        "        layers.Flatten(),\n",
        "        layers.Dense(128, activation=\"relu\"),\n",
        "        layers.Dense(10, activation=\"softmax\"),\n",
        "    ]\n",
        ")\n",
        "\n",
        "# Compile the model with SGD optimizer\n",
        "model.compile(loss=\"categorical_crossentropy\", optimizer=keras.optimizers.SGD(lr=0.01), metrics=[\"accuracy\"])\n",
        "\n",
        "# Train the model\n",
        "model.fit(x_train, y_train, batch_size=128, epochs=10, validation_data=(x_test, y_test))\n",
        "\n",
        "# Evaluate the model with ADAM optimizer\n",
        "model.compile(loss=\"categorical_crossentropy\", optimizer=keras.optimizers.Adam(lr=0.001), metrics=[\"accuracy\"])\n",
        "model.fit(x_train, y_train, batch_size=128, epochs=10, validation_data=(x_test, y_test))\n",
        "\n",
        "# Evaluate the model with RMSprop optimizer\n",
        "model.compile(loss=\"categorical_crossentropy\", optimizer=keras.optimizers.RMSprop(lr=0.001), metrics=[\"accuracy\"])\n",
        "model.fit(x_train, y_train, batch_size=128, epochs=10, validation_data=(x_test, y_test))\n"
      ]
    }
  ]
}